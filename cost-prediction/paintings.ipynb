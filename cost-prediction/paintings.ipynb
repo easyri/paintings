{
  "nbformat": 4,
  "nbformat_minor": 0,
  "metadata": {
    "colab": {
      "name": "paintings.ipynb",
      "provenance": [],
      "machine_shape": "hm",
      "authorship_tag": "ABX9TyP3njY/l3ULUimg/8qpJYsb",
      "include_colab_link": true
    },
    "kernelspec": {
      "name": "python3",
      "display_name": "Python 3"
    },
    "widgets": {
      "application/vnd.jupyter.widget-state+json": {
        "853068bde4854660aac7adbd2ecfea2f": {
          "model_module": "@jupyter-widgets/controls",
          "model_name": "HBoxModel",
          "state": {
            "_view_name": "HBoxView",
            "_dom_classes": [],
            "_model_name": "HBoxModel",
            "_view_module": "@jupyter-widgets/controls",
            "_model_module_version": "1.5.0",
            "_view_count": null,
            "_view_module_version": "1.5.0",
            "box_style": "",
            "layout": "IPY_MODEL_fb8edb8838144710a0142063277ecc65",
            "_model_module": "@jupyter-widgets/controls",
            "children": [
              "IPY_MODEL_700a63e6b270484da5e6c0963b228707",
              "IPY_MODEL_76ae3c57ea77404d8ddd78ac6bd11ee6"
            ]
          }
        },
        "fb8edb8838144710a0142063277ecc65": {
          "model_module": "@jupyter-widgets/base",
          "model_name": "LayoutModel",
          "state": {
            "_view_name": "LayoutView",
            "grid_template_rows": null,
            "right": null,
            "justify_content": null,
            "_view_module": "@jupyter-widgets/base",
            "overflow": null,
            "_model_module_version": "1.2.0",
            "_view_count": null,
            "flex_flow": null,
            "width": null,
            "min_width": null,
            "border": null,
            "align_items": null,
            "bottom": null,
            "_model_module": "@jupyter-widgets/base",
            "top": null,
            "grid_column": null,
            "overflow_y": null,
            "overflow_x": null,
            "grid_auto_flow": null,
            "grid_area": null,
            "grid_template_columns": null,
            "flex": null,
            "_model_name": "LayoutModel",
            "justify_items": null,
            "grid_row": null,
            "max_height": null,
            "align_content": null,
            "visibility": null,
            "align_self": null,
            "height": null,
            "min_height": null,
            "padding": null,
            "grid_auto_rows": null,
            "grid_gap": null,
            "max_width": null,
            "order": null,
            "_view_module_version": "1.2.0",
            "grid_template_areas": null,
            "object_position": null,
            "object_fit": null,
            "grid_auto_columns": null,
            "margin": null,
            "display": null,
            "left": null
          }
        },
        "700a63e6b270484da5e6c0963b228707": {
          "model_module": "@jupyter-widgets/controls",
          "model_name": "FloatProgressModel",
          "state": {
            "_view_name": "ProgressView",
            "style": "IPY_MODEL_125a186ddcae4127a904ce9437215ea6",
            "_dom_classes": [],
            "description": "100%",
            "_model_name": "FloatProgressModel",
            "bar_style": "success",
            "max": 553433881,
            "_view_module": "@jupyter-widgets/controls",
            "_model_module_version": "1.5.0",
            "value": 553433881,
            "_view_count": null,
            "_view_module_version": "1.5.0",
            "orientation": "horizontal",
            "min": 0,
            "description_tooltip": null,
            "_model_module": "@jupyter-widgets/controls",
            "layout": "IPY_MODEL_74e14a27ce2b482dad313f5d7d670be5"
          }
        },
        "76ae3c57ea77404d8ddd78ac6bd11ee6": {
          "model_module": "@jupyter-widgets/controls",
          "model_name": "HTMLModel",
          "state": {
            "_view_name": "HTMLView",
            "style": "IPY_MODEL_6da84cc3479441aea29ca7d20902c41f",
            "_dom_classes": [],
            "description": "",
            "_model_name": "HTMLModel",
            "placeholder": "​",
            "_view_module": "@jupyter-widgets/controls",
            "_model_module_version": "1.5.0",
            "value": " 528M/528M [1:07:29&lt;00:00, 137kB/s]",
            "_view_count": null,
            "_view_module_version": "1.5.0",
            "description_tooltip": null,
            "_model_module": "@jupyter-widgets/controls",
            "layout": "IPY_MODEL_87d1ccfa680040e9b44b5f238a4e451b"
          }
        },
        "125a186ddcae4127a904ce9437215ea6": {
          "model_module": "@jupyter-widgets/controls",
          "model_name": "ProgressStyleModel",
          "state": {
            "_view_name": "StyleView",
            "_model_name": "ProgressStyleModel",
            "description_width": "initial",
            "_view_module": "@jupyter-widgets/base",
            "_model_module_version": "1.5.0",
            "_view_count": null,
            "_view_module_version": "1.2.0",
            "bar_color": null,
            "_model_module": "@jupyter-widgets/controls"
          }
        },
        "74e14a27ce2b482dad313f5d7d670be5": {
          "model_module": "@jupyter-widgets/base",
          "model_name": "LayoutModel",
          "state": {
            "_view_name": "LayoutView",
            "grid_template_rows": null,
            "right": null,
            "justify_content": null,
            "_view_module": "@jupyter-widgets/base",
            "overflow": null,
            "_model_module_version": "1.2.0",
            "_view_count": null,
            "flex_flow": null,
            "width": null,
            "min_width": null,
            "border": null,
            "align_items": null,
            "bottom": null,
            "_model_module": "@jupyter-widgets/base",
            "top": null,
            "grid_column": null,
            "overflow_y": null,
            "overflow_x": null,
            "grid_auto_flow": null,
            "grid_area": null,
            "grid_template_columns": null,
            "flex": null,
            "_model_name": "LayoutModel",
            "justify_items": null,
            "grid_row": null,
            "max_height": null,
            "align_content": null,
            "visibility": null,
            "align_self": null,
            "height": null,
            "min_height": null,
            "padding": null,
            "grid_auto_rows": null,
            "grid_gap": null,
            "max_width": null,
            "order": null,
            "_view_module_version": "1.2.0",
            "grid_template_areas": null,
            "object_position": null,
            "object_fit": null,
            "grid_auto_columns": null,
            "margin": null,
            "display": null,
            "left": null
          }
        },
        "6da84cc3479441aea29ca7d20902c41f": {
          "model_module": "@jupyter-widgets/controls",
          "model_name": "DescriptionStyleModel",
          "state": {
            "_view_name": "StyleView",
            "_model_name": "DescriptionStyleModel",
            "description_width": "",
            "_view_module": "@jupyter-widgets/base",
            "_model_module_version": "1.5.0",
            "_view_count": null,
            "_view_module_version": "1.2.0",
            "_model_module": "@jupyter-widgets/controls"
          }
        },
        "87d1ccfa680040e9b44b5f238a4e451b": {
          "model_module": "@jupyter-widgets/base",
          "model_name": "LayoutModel",
          "state": {
            "_view_name": "LayoutView",
            "grid_template_rows": null,
            "right": null,
            "justify_content": null,
            "_view_module": "@jupyter-widgets/base",
            "overflow": null,
            "_model_module_version": "1.2.0",
            "_view_count": null,
            "flex_flow": null,
            "width": null,
            "min_width": null,
            "border": null,
            "align_items": null,
            "bottom": null,
            "_model_module": "@jupyter-widgets/base",
            "top": null,
            "grid_column": null,
            "overflow_y": null,
            "overflow_x": null,
            "grid_auto_flow": null,
            "grid_area": null,
            "grid_template_columns": null,
            "flex": null,
            "_model_name": "LayoutModel",
            "justify_items": null,
            "grid_row": null,
            "max_height": null,
            "align_content": null,
            "visibility": null,
            "align_self": null,
            "height": null,
            "min_height": null,
            "padding": null,
            "grid_auto_rows": null,
            "grid_gap": null,
            "max_width": null,
            "order": null,
            "_view_module_version": "1.2.0",
            "grid_template_areas": null,
            "object_position": null,
            "object_fit": null,
            "grid_auto_columns": null,
            "margin": null,
            "display": null,
            "left": null
          }
        }
      }
    }
  },
  "cells": [
    {
      "cell_type": "markdown",
      "metadata": {
        "id": "view-in-github",
        "colab_type": "text"
      },
      "source": [
        "<a href=\"https://colab.research.google.com/github/easyri/paintings/blob/master/paintings.ipynb\" target=\"_parent\"><img src=\"https://colab.research.google.com/assets/colab-badge.svg\" alt=\"Open In Colab\"/></a>"
      ]
    },
    {
      "cell_type": "markdown",
      "metadata": {
        "id": "_yHrkbNWEIec"
      },
      "source": [
        "Предсказание стоимости картин с помощью Transfer Learning"
      ]
    },
    {
      "cell_type": "code",
      "metadata": {
        "id": "Bws3K0APwfWt",
        "colab": {
          "resources": {
            "http://localhost:8080/nbextensions/google.colab/files.js": {
              "data": "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",
              "ok": true,
              "headers": [
                [
                  "content-type",
                  "application/javascript"
                ]
              ],
              "status": 200,
              "status_text": ""
            }
          },
          "base_uri": "https://localhost:8080/",
          "height": 110
        },
        "outputId": "359613a1-8b5b-46a1-cf9f-f1da6c73cf32"
      },
      "source": [
        "from google.colab import files\n",
        "uploaded = files.upload()"
      ],
      "execution_count": null,
      "outputs": [
        {
          "output_type": "display_data",
          "data": {
            "text/html": [
              "\n",
              "     <input type=\"file\" id=\"files-11c1677f-bccf-4164-a5ec-38004f0afec8\" name=\"files[]\" multiple disabled />\n",
              "     <output id=\"result-11c1677f-bccf-4164-a5ec-38004f0afec8\">\n",
              "      Upload widget is only available when the cell has been executed in the\n",
              "      current browser session. Please rerun this cell to enable.\n",
              "      </output>\n",
              "      <script src=\"/nbextensions/google.colab/files.js\"></script> "
            ],
            "text/plain": [
              "<IPython.core.display.HTML object>"
            ]
          },
          "metadata": {
            "tags": []
          }
        },
        {
          "output_type": "stream",
          "text": [
            "Saving new_dataset.csv to new_dataset.csv\n",
            "Saving new_imgarray.npy to new_imgarray.npy\n"
          ],
          "name": "stdout"
        }
      ]
    },
    {
      "cell_type": "markdown",
      "metadata": {
        "id": "onLp_g9OPuCL"
      },
      "source": [
        "(нужно загрузить new_dataset.csv и img_arrays.npy)"
      ]
    },
    {
      "cell_type": "code",
      "metadata": {
        "id": "Y3oVDBmNh7uq"
      },
      "source": [
        "! pip install git+https://github.com/tensorflow/docs\n"
      ],
      "execution_count": null,
      "outputs": []
    },
    {
      "cell_type": "code",
      "metadata": {
        "id": "sVWhANuyGAJ6"
      },
      "source": [
        "import pandas as pd\n",
        "import numpy as np\n",
        "import requests\n",
        "import tensorflow as tf\n",
        "from tensorflow import keras\n",
        "from tensorflow.keras import layers\n",
        "import PIL\n",
        "from PIL import Image\n",
        "import matplotlib.pyplot as plt\n",
        "from matplotlib.pyplot import imshow\n",
        "\n",
        "import os, glob, cv2\n",
        "\n",
        "from sklearn.model_selection import train_test_split\n",
        "from sklearn.preprocessing import MinMaxScaler\n",
        "\n",
        "import tensorflow_docs as tfdocs\n",
        "import tensorflow_docs.plots\n",
        "import tensorflow_docs.modeling\n",
        "\n",
        "import keras\n",
        "from keras import layers\n",
        "from keras.preprocessing.image import ImageDataGenerator\n"
      ],
      "execution_count": null,
      "outputs": []
    },
    {
      "cell_type": "markdown",
      "metadata": {
        "id": "WdS11dGY_vwu"
      },
      "source": [
        " Предварительная подготовка: загружаем изображения, приводим к одному размеру и помещаем в numpy array (не требуется)"
      ]
    },
    {
      "cell_type": "code",
      "metadata": {
        "id": "hBgwUYUOTbJb"
      },
      "source": [
        "# перед запуском предварительно загрузить data_set.csv\n",
        "def download_image(url, name):\n",
        "    try:\n",
        "        response = requests.get(url)\n",
        "        response.raise_for_status()\n",
        "    except requests.exceptions.HTTPError:\n",
        "        print(\"http error with {}\".format(name))\n",
        "    else:\n",
        "        file = open(\"{}.jpg\".format(name), 'wb')\n",
        "        file.write(response.content)\n",
        "        file.close()\n",
        "\n",
        "\n",
        "# конвертирует изображеня в np-array\n",
        "def image_to_array(image_path):\n",
        "    size = (128, 128)\n",
        "    with Image.open(image_path) as image:\n",
        "        image.resize(size)\n",
        "        data = np.asarray(image)\n",
        "    return data\n",
        "\n",
        "\n",
        "if __name__ == \"__main__\":\n",
        "    data = pd.read_csv(\"data_set.csv\")\n",
        "    for i in range(data[\"Image\"].size):\n",
        "        if \".jpg\" not in data[\"Image\"][i]:               # удаляем пустые ссылки\n",
        "            # print(i, data[\"Image\"][i], sep=' ', end='\\n')\n",
        "            data = data.drop([i])\n",
        "    data.index = [i for i in range(data[\"Image\"].size)]  # приводим индексы в порядок\n",
        "    if \"downloaded_image\" not in data.columns:           # загружаем изображения в память\n",
        "        addresses = []\n",
        "        arrays = []\n",
        "        size = 254, 254\n",
        "        for i in range(data[\"Image\"].size):\n",
        "            download_image(data['Image'][i], str(i))\n",
        "            addresses.append(\"{}.jpg\".format(str(i)))\n",
        "            img = Image.open(\"{}.jpg\".format(str(i)))\n",
        "            img = img.resize(size)\n",
        "            img = np.asarray(img)\n",
        "            if img.shape != (254, 254, 3):\n",
        "                # черно-белый формат -->> цветной\n",
        "                rgbimg = Image.new(\"RGB\", Image.fromarray(img).size)\n",
        "                rgbimg.paste(Image.fromarray(img))\n",
        "                rgbimg = np.asarray(rgbimg)\n",
        "                arrays.append(rgbimg)\n",
        "            else:\n",
        "                arrays.append(img)\n",
        "        data[\"downloaded_image\"] = addresses\n",
        "        data.to_csv(\"new_dataset.csv\", index=False)\n",
        "        np.save('new_img_arrays', arrays)\n",
        "\n",
        "    "
      ],
      "execution_count": null,
      "outputs": []
    },
    {
      "cell_type": "code",
      "metadata": {
        "id": "8iTtfFMcoE90"
      },
      "source": [
        "X = np.load(\"new_imgarray.npy\")"
      ],
      "execution_count": null,
      "outputs": []
    },
    {
      "cell_type": "markdown",
      "metadata": {
        "id": "2wwD8YCBBCzj"
      },
      "source": [
        "тестим просмотр"
      ]
    },
    {
      "cell_type": "code",
      "metadata": {
        "id": "X3ayDTyRGufA",
        "colab": {
          "base_uri": "https://localhost:8080/",
          "height": 287
        },
        "outputId": "33e7a8e3-1124-4d0a-91b6-40e5884d8d27"
      },
      "source": [
        "%matplotlib inline\n",
        "imshow(X[0])"
      ],
      "execution_count": null,
      "outputs": [
        {
          "output_type": "execute_result",
          "data": {
            "text/plain": [
              "<matplotlib.image.AxesImage at 0x7fe025f1f588>"
            ]
          },
          "metadata": {
            "tags": []
          },
          "execution_count": 6
        },
        {
          "output_type": "display_data",
          "data": {
            "image/png": "[encoded data removed]",
            "text/plain": [
              "<Figure size 432x288 with 1 Axes>"
            ]
          },
          "metadata": {
            "tags": [],
            "needs_background": "light"
          }
        }
      ]
    },
    {
      "cell_type": "code",
      "metadata": {
        "id": "990vH58EwlwN"
      },
      "source": [
        "# приводим в порядок формат целевой переменной\n",
        "dataset = pd.read_csv(\"new_dataset.csv\")\n",
        "y = list(dataset[\"Price\"])\n",
        "for i in range(len(y)):\n",
        "  y[i] = y[i].replace(',', '')  # цена оказалась в виде строки с запятыми \n",
        "y = np.asarray(y, dtype=int)\n",
        "# dataset.head()\n",
        "\n",
        "\n"
      ],
      "execution_count": null,
      "outputs": []
    },
    {
      "cell_type": "code",
      "metadata": {
        "id": "2WJDLvYJQIuA"
      },
      "source": [
        "# разделяем данные для обучения и теста\n",
        "X_train, X_test, y_train, y_test = train_test_split(X, y)       \n",
        "X_val, X_test, y_val, y_test = train_test_split(X_test, y_test)\n",
        "\n"
      ],
      "execution_count": null,
      "outputs": []
    },
    {
      "cell_type": "markdown",
      "metadata": {
        "id": "eehFu7fPghUJ"
      },
      "source": [
        "Сначала построим cnn и обучим на тестовой выборке"
      ]
    },
    {
      "cell_type": "code",
      "metadata": {
        "id": "ny7ko3DlWYSr"
      },
      "source": [
        "input_shape = 224, 224, 3   # константы для cnn\n",
        "epochs = 30\n",
        "batch_size = 30"
      ],
      "execution_count": null,
      "outputs": []
    },
    {
      "cell_type": "code",
      "metadata": {
        "id": "TYnZ0zaSQfeV"
      },
      "source": [
        "def build_model():          \n",
        "  model = keras.Sequential()\n",
        "\n",
        "  model.add(layers.Conv2D(16, kernel_size=(3, 3), activation='relu', \n",
        "                 input_shape=input_shape))\n",
        "  model.add(layers.MaxPooling2D(pool_size=(2, 2)))\n",
        "\n",
        "  model.add(layers.Conv2D(64, kernel_size=(3, 3), activation='relu'))\n",
        "  model.add(layers.MaxPooling2D(pool_size=(2, 2)))\n",
        "\n",
        "  model.add(layers.Conv2D(128, kernel_size=(3, 3), activation='relu'))\n",
        "  model.add(layers.MaxPooling2D(pool_size=(2, 2)))\n",
        "\n",
        "  model.add(layers.Flatten())\n",
        "\n",
        "  model.add(layers.Dense(64, activation='relu', input_shape=[len(y_train)]))\n",
        "  model.add(layers.Dense(64, activation='relu'))\n",
        "  model.add(layers.Dense(1))\n",
        "  \n",
        "\n",
        "  optimizer = tf.keras.optimizers.RMSprop(0.001)\n",
        "\n",
        "  model.compile(loss='mse',\n",
        "                optimizer=optimizer,\n",
        "                metrics=['mae', 'mse'])\n",
        "  return model"
      ],
      "execution_count": null,
      "outputs": []
    },
    {
      "cell_type": "code",
      "metadata": {
        "id": "9Ofruhn8V55t",
        "colab": {
          "base_uri": "https://localhost:8080/",
          "height": 503
        },
        "outputId": "d3824a23-2c03-4f72-c0c1-103299f4c400"
      },
      "source": [
        "model = build_model()\n",
        "early_stop = keras.callbacks.EarlyStopping(monitor='val_loss', patience=4)\n",
        "model.summary()"
      ],
      "execution_count": null,
      "outputs": [
        {
          "output_type": "stream",
          "text": [
            "Model: \"sequential_3\"\n",
            "_________________________________________________________________\n",
            "Layer (type)                 Output Shape              Param #   \n",
            "=================================================================\n",
            "conv2d_7 (Conv2D)            (None, 222, 222, 16)      448       \n",
            "_________________________________________________________________\n",
            "max_pooling2d_7 (MaxPooling2 (None, 111, 111, 16)      0         \n",
            "_________________________________________________________________\n",
            "conv2d_8 (Conv2D)            (None, 109, 109, 64)      9280      \n",
            "_________________________________________________________________\n",
            "max_pooling2d_8 (MaxPooling2 (None, 54, 54, 64)        0         \n",
            "_________________________________________________________________\n",
            "conv2d_9 (Conv2D)            (None, 52, 52, 128)       73856     \n",
            "_________________________________________________________________\n",
            "max_pooling2d_9 (MaxPooling2 (None, 26, 26, 128)       0         \n",
            "_________________________________________________________________\n",
            "flatten_3 (Flatten)          (None, 86528)             0         \n",
            "_________________________________________________________________\n",
            "dense_7 (Dense)              (None, 64)                5537856   \n",
            "_________________________________________________________________\n",
            "dense_8 (Dense)              (None, 64)                4160      \n",
            "_________________________________________________________________\n",
            "dense_9 (Dense)              (None, 1)                 65        \n",
            "=================================================================\n",
            "Total params: 5,625,665\n",
            "Trainable params: 5,625,665\n",
            "Non-trainable params: 0\n",
            "_________________________________________________________________\n"
          ],
          "name": "stdout"
        }
      ]
    },
    {
      "cell_type": "code",
      "metadata": {
        "id": "eFNNaRVYb9ZY",
        "colab": {
          "base_uri": "https://localhost:8080/",
          "height": 800
        },
        "outputId": "b9df95cd-5465-4b80-9068-c26bea654170"
      },
      "source": [
        "history = model.fit(x=X_train,y=y_train,  batch_size=batch_size, epochs=epochs,\n",
        "                    verbose=1, validation_data=(X_val, y_val), shuffle=True,callbacks=[early_stop, tfdocs.modeling.EpochDots()])"
      ],
      "execution_count": null,
      "outputs": [
        {
          "output_type": "stream",
          "text": [
            "Train on 291 samples, validate on 73 samples\n",
            "Epoch 1/30\n",
            "291/291 [==============================] - 11s 39ms/step - loss: 636447665852036.0000 - mae: 18059272.0000 - mse: 636447648382976.0000 - val_loss: 243572696549123.5312 - val_mae: 10017791.0000 - val_mse: 243572678852608.0000\n",
            "\n",
            "Epoch: 0, loss:636447665852036.0000,  mae:18059272.0000,  mse:636447648382976.0000,  val_loss:243572696549123.5000,  val_mae:10017791.0000,  val_mse:243572678852608.0000,  \n",
            ".Epoch 2/30\n",
            "291/291 [==============================] - 11s 37ms/step - loss: 347966441064426.8750 - mae: 11764611.0000 - mse: 347966405607424.0000 - val_loss: 219476111414314.0938 - val_mae: 9566942.0000 - val_mse: 219476117159936.0000\n",
            ".Epoch 3/30\n",
            "291/291 [==============================] - 11s 37ms/step - loss: 339696942563496.9375 - mae: 11810909.0000 - mse: 339696949395456.0000 - val_loss: 228755908580842.9375 - val_mae: 9641051.0000 - val_mse: 228755897319424.0000\n",
            ".Epoch 4/30\n",
            "291/291 [==============================] - 11s 37ms/step - loss: 354301901323781.3125 - mae: 12081817.0000 - mse: 354301918576640.0000 - val_loss: 216046400535229.3750 - val_mae: 9633100.0000 - val_mse: 216046401224704.0000\n",
            ".Epoch 5/30\n",
            "291/291 [==============================] - 11s 37ms/step - loss: 330864325974459.3750 - mae: 11523834.0000 - mse: 330864282042368.0000 - val_loss: 237269630945476.3750 - val_mae: 11640803.0000 - val_mse: 237269629796352.0000\n",
            ".Epoch 6/30\n",
            "291/291 [==============================] - 11s 37ms/step - loss: 333726868059336.5625 - mae: 11689656.0000 - mse: 333726877745152.0000 - val_loss: 250314916583339.8438 - val_mae: 12335731.0000 - val_mse: 250314921869312.0000\n",
            ".Epoch 7/30\n",
            "291/291 [==============================] - 11s 37ms/step - loss: 346094087673454.8750 - mae: 12239396.0000 - mse: 346094068301824.0000 - val_loss: 215512704883726.0625 - val_mae: 9551653.0000 - val_mse: 215512684429312.0000\n",
            ".Epoch 8/30\n",
            "291/291 [==============================] - 11s 37ms/step - loss: 335943164237085.0000 - mae: 11537940.0000 - mse: 335943181533184.0000 - val_loss: 215019726156505.4375 - val_mae: 9929767.0000 - val_mse: 215019719491584.0000\n",
            ".Epoch 9/30\n",
            "291/291 [==============================] - 11s 37ms/step - loss: 332596857355443.5000 - mae: 11467769.0000 - mse: 332596865138688.0000 - val_loss: 225508179014585.8438 - val_mae: 10966754.0000 - val_mse: 225508163846144.0000\n",
            ".Epoch 10/30\n",
            "291/291 [==============================] - 11s 37ms/step - loss: 339933209523907.3125 - mae: 11957998.0000 - mse: 339933239705600.0000 - val_loss: 215303043232922.3438 - val_mae: 9450584.0000 - val_mse: 215303053115392.0000\n",
            ".Epoch 11/30\n",
            "291/291 [==============================] - 11s 37ms/step - loss: 332634293550935.0625 - mae: 11610767.0000 - mse: 332634311884800.0000 - val_loss: 215159760062660.3750 - val_mae: 10230322.0000 - val_mse: 215159758913536.0000\n",
            ".Epoch 12/30\n",
            "291/291 [==============================] - 11s 37ms/step - loss: 324677474878453.4375 - mae: 11577117.0000 - mse: 324677482315776.0000 - val_loss: 213260911538232.1250 - val_mae: 10006346.0000 - val_mse: 213260913606656.0000\n",
            ".Epoch 13/30\n",
            "291/291 [==============================] - 11s 37ms/step - loss: 342634926513415.8750 - mae: 11987190.0000 - mse: 342634941906944.0000 - val_loss: 213956915033466.7500 - val_mae: 10068308.0000 - val_mse: 213956916412416.0000\n",
            ".Epoch 14/30\n",
            "291/291 [==============================] - 11s 37ms/step - loss: 322617208020231.8750 - mae: 11750829.0000 - mse: 322617206636544.0000 - val_loss: 244578425148233.6562 - val_mae: 9972250.0000 - val_mse: 244578405842944.0000\n",
            ".Epoch 15/30\n",
            "291/291 [==============================] - 11s 37ms/step - loss: 330354460326584.6875 - mae: 11585115.0000 - mse: 330354456002560.0000 - val_loss: 211060997021808.2188 - val_mae: 10014655.0000 - val_mse: 211060984381440.0000\n",
            ".Epoch 16/30\n",
            "291/291 [==============================] - 11s 37ms/step - loss: 330729815423503.8750 - mae: 11867461.0000 - mse: 330729829433344.0000 - val_loss: 209943172028556.2812 - val_mae: 9460951.0000 - val_mse: 209943185588224.0000\n",
            ".Epoch 17/30\n",
            "291/291 [==============================] - 11s 37ms/step - loss: 331874042482983.5625 - mae: 11687147.0000 - mse: 331874035564544.0000 - val_loss: 215497200897543.0000 - val_mae: 10419472.0000 - val_mse: 215497182281728.0000\n",
            ".Epoch 18/30\n",
            "291/291 [==============================] - 11s 37ms/step - loss: 326896285736031.0000 - mae: 11718587.0000 - mse: 326896269131776.0000 - val_loss: 213808223394381.1562 - val_mae: 10377084.0000 - val_mse: 213808219947008.0000\n",
            ".Epoch 19/30\n",
            "291/291 [==============================] - 11s 37ms/step - loss: 321238845398617.7500 - mae: 11524613.0000 - mse: 321238857678848.0000 - val_loss: 226119926871418.7500 - val_mae: 11309110.0000 - val_mse: 226119928250368.0000\n",
            ".Epoch 20/30\n",
            "291/291 [==============================] - 11s 37ms/step - loss: 321133098433208.6875 - mae: 11501221.0000 - mse: 321133094109184.0000 - val_loss: 292032724756788.6250 - val_mae: 14208676.0000 - val_mse: 292032710967296.0000\n",
            "."
          ],
          "name": "stdout"
        }
      ]
    },
    {
      "cell_type": "code",
      "metadata": {
        "id": "JJnGgReAuj6q",
        "colab": {
          "base_uri": "https://localhost:8080/",
          "height": 202
        },
        "outputId": "c4501b9b-0869-4d88-e3ea-a36ed21f43b1"
      },
      "source": [
        "hist = pd.DataFrame(history.history)\n",
        "hist['epoch'] = history.epoch\n",
        "hist.tail() # динамика потерь и ошибок во время тренировки и валидации:\n"
      ],
      "execution_count": null,
      "outputs": [
        {
          "output_type": "execute_result",
          "data": {
            "text/html": [
              "<div>\n",
              "<style scoped>\n",
              "    .dataframe tbody tr th:only-of-type {\n",
              "        vertical-align: middle;\n",
              "    }\n",
              "\n",
              "    .dataframe tbody tr th {\n",
              "        vertical-align: top;\n",
              "    }\n",
              "\n",
              "    .dataframe thead th {\n",
              "        text-align: right;\n",
              "    }\n",
              "</style>\n",
              "<table border=\"1\" class=\"dataframe\">\n",
              "  <thead>\n",
              "    <tr style=\"text-align: right;\">\n",
              "      <th></th>\n",
              "      <th>val_loss</th>\n",
              "      <th>val_mae</th>\n",
              "      <th>val_mse</th>\n",
              "      <th>loss</th>\n",
              "      <th>mae</th>\n",
              "      <th>mse</th>\n",
              "      <th>epoch</th>\n",
              "    </tr>\n",
              "  </thead>\n",
              "  <tbody>\n",
              "    <tr>\n",
              "      <th>15</th>\n",
              "      <td>2.099432e+14</td>\n",
              "      <td>9460951.0</td>\n",
              "      <td>2.099432e+14</td>\n",
              "      <td>3.307298e+14</td>\n",
              "      <td>11867461.0</td>\n",
              "      <td>3.307298e+14</td>\n",
              "      <td>15</td>\n",
              "    </tr>\n",
              "    <tr>\n",
              "      <th>16</th>\n",
              "      <td>2.154972e+14</td>\n",
              "      <td>10419472.0</td>\n",
              "      <td>2.154972e+14</td>\n",
              "      <td>3.318740e+14</td>\n",
              "      <td>11687147.0</td>\n",
              "      <td>3.318740e+14</td>\n",
              "      <td>16</td>\n",
              "    </tr>\n",
              "    <tr>\n",
              "      <th>17</th>\n",
              "      <td>2.138082e+14</td>\n",
              "      <td>10377084.0</td>\n",
              "      <td>2.138082e+14</td>\n",
              "      <td>3.268963e+14</td>\n",
              "      <td>11718587.0</td>\n",
              "      <td>3.268963e+14</td>\n",
              "      <td>17</td>\n",
              "    </tr>\n",
              "    <tr>\n",
              "      <th>18</th>\n",
              "      <td>2.261199e+14</td>\n",
              "      <td>11309110.0</td>\n",
              "      <td>2.261199e+14</td>\n",
              "      <td>3.212388e+14</td>\n",
              "      <td>11524613.0</td>\n",
              "      <td>3.212389e+14</td>\n",
              "      <td>18</td>\n",
              "    </tr>\n",
              "    <tr>\n",
              "      <th>19</th>\n",
              "      <td>2.920327e+14</td>\n",
              "      <td>14208676.0</td>\n",
              "      <td>2.920327e+14</td>\n",
              "      <td>3.211331e+14</td>\n",
              "      <td>11501221.0</td>\n",
              "      <td>3.211331e+14</td>\n",
              "      <td>19</td>\n",
              "    </tr>\n",
              "  </tbody>\n",
              "</table>\n",
              "</div>"
            ],
            "text/plain": [
              "        val_loss     val_mae       val_mse  ...         mae           mse  epoch\n",
              "15  2.099432e+14   9460951.0  2.099432e+14  ...  11867461.0  3.307298e+14     15\n",
              "16  2.154972e+14  10419472.0  2.154972e+14  ...  11687147.0  3.318740e+14     16\n",
              "17  2.138082e+14  10377084.0  2.138082e+14  ...  11718587.0  3.268963e+14     17\n",
              "18  2.261199e+14  11309110.0  2.261199e+14  ...  11524613.0  3.212389e+14     18\n",
              "19  2.920327e+14  14208676.0  2.920327e+14  ...  11501221.0  3.211331e+14     19\n",
              "\n",
              "[5 rows x 7 columns]"
            ]
          },
          "metadata": {
            "tags": []
          },
          "execution_count": 341
        }
      ]
    },
    {
      "cell_type": "markdown",
      "metadata": {
        "id": "b99KIctBiKnU"
      },
      "source": [
        "Результаты так себе, но лучшего никто и не ожидал"
      ]
    },
    {
      "cell_type": "markdown",
      "metadata": {
        "id": "NsmGkfdUiUQG"
      },
      "source": [
        "построим графики метрик:"
      ]
    },
    {
      "cell_type": "code",
      "metadata": {
        "id": "RPyRUSVKyaSy"
      },
      "source": [
        "def plt_errors(history, dfhistory):\n",
        "  f, (ax1, ax2) = plt.subplots(1, 2, figsize=(12, 4))\n",
        "  t = f.suptitle('Basic CNN Performance', fontsize=12)\n",
        "  f.subplots_adjust(top=0.85, wspace=0.3)\n",
        "\n",
        "  epoch_list = list(range(1, len(dfhistory['epoch']) + 1))\n",
        "  ax1.plot(epoch_list, history.history['mae'], label='Train mae')\n",
        "  ax1.plot(epoch_list, history.history['val_mae'], label='Validation mae')\n",
        "  ax1.set_xticks(np.arange(0, 31, 5))\n",
        "  ax1.set_ylabel('mae Value')\n",
        "  ax1.set_xlabel('Epoch')\n",
        "  ax1.set_title('mae')\n",
        "  l1 = ax1.legend(loc=\"best\")\n",
        "\n",
        "  ax2.plot(epoch_list, history.history['loss'], label='Train Loss')\n",
        "  ax2.plot(epoch_list, history.history['val_loss'], label='Validation Loss')\n",
        "  ax2.set_xticks(np.arange(0, 31, 5))\n",
        "  ax2.set_ylabel('Loss Value')\n",
        "  ax2.set_xlabel('Epoch')\n",
        "  ax2.set_title('Loss')\n",
        "  l2 = ax2.legend(loc=\"best\")\n"
      ],
      "execution_count": null,
      "outputs": []
    },
    {
      "cell_type": "code",
      "metadata": {
        "id": "77IgEW3R9Z-K",
        "colab": {
          "base_uri": "https://localhost:8080/",
          "height": 308
        },
        "outputId": "dc808271-eb5c-4d57-d5ac-27ed274749ac"
      },
      "source": [
        "plt_errors(history, hist)"
      ],
      "execution_count": null,
      "outputs": [
        {
          "output_type": "display_data",
          "data": {
            "image/png": "[encoded data removed]",
            "text/plain": [
              "<Figure size 864x288 with 2 Axes>"
            ]
          },
          "metadata": {
            "tags": [],
            "needs_background": "light"
          }
        }
      ]
    },
    {
      "cell_type": "markdown",
      "metadata": {
        "id": "tfrS7_43jmnl"
      },
      "source": [
        "ошибки на тестовых данных:"
      ]
    },
    {
      "cell_type": "code",
      "metadata": {
        "id": "kDAxpvAg43Jw",
        "colab": {
          "base_uri": "https://localhost:8080/",
          "height": 35
        },
        "outputId": "c1d1c1e8-c297-4f36-e03e-63e5fe211791"
      },
      "source": [
        "loss, mae, mse = model.evaluate(X_test, y_test, verbose=1)"
      ],
      "execution_count": null,
      "outputs": [
        {
          "output_type": "stream",
          "text": [
            "\r25/25 [==============================] - 0s 11ms/step\n"
          ],
          "name": "stdout"
        }
      ]
    },
    {
      "cell_type": "code",
      "metadata": {
        "id": "uouWrm9X6VaM"
      },
      "source": [
        "predictions = model.predict(X_test).flatten()\n",
        "# print(predictions)\n"
      ],
      "execution_count": null,
      "outputs": []
    },
    {
      "cell_type": "markdown",
      "metadata": {
        "id": "TPnuznALj32u"
      },
      "source": [
        "Посмотрим на отличия между реальными и предсказанными значениями:"
      ]
    },
    {
      "cell_type": "code",
      "metadata": {
        "id": "EqWvS_IR7Ibt"
      },
      "source": [
        "def plt_values(y_test, predictions, lims):\n",
        "  a = plt.axes(aspect='equal')\n",
        "  plt.scatter(y_test, predictions)\n",
        "  plt.xlabel('true values')\n",
        "  plt.ylabel('predicted values')\n",
        "  plt.xlim(lims)\n",
        "  plt.ylim(lims)\n",
        "  _=plt.plot(lims, lims)"
      ],
      "execution_count": null,
      "outputs": []
    },
    {
      "cell_type": "code",
      "metadata": {
        "id": "rH5W8i2ikkGB",
        "colab": {
          "base_uri": "https://localhost:8080/",
          "height": 910
        },
        "outputId": "231a6947-9157-44dd-b21d-77ce4aa51180"
      },
      "source": [
        "plt_values(y_test, predictions, [0, 50000000])"
      ],
      "execution_count": null,
      "outputs": [
        {
          "output_type": "display_data",
          "data": {
            "image/png": "[encoded data removed]",
            "text/plain": [
              "<Figure size 1080x1800 with 1 Axes>"
            ]
          },
          "metadata": {
            "tags": [],
            "needs_background": "light"
          }
        }
      ]
    },
    {
      "cell_type": "markdown",
      "metadata": {
        "id": "7MTAPOvLk3Yv"
      },
      "source": [
        "Попробуем улучшить результат, добавив dropout"
      ]
    },
    {
      "cell_type": "code",
      "metadata": {
        "id": "wfZw09K1SYMr"
      },
      "source": [
        "def build_better_model():\n",
        "  model = keras.Sequential()\n",
        "\n",
        "  model.add(layers.Conv2D(16, kernel_size=(3, 3), activation='relu', \n",
        "                 input_shape=input_shape))\n",
        "  model.add(layers.MaxPooling2D(pool_size=(2, 2)))\n",
        "\n",
        "  model.add(layers.Conv2D(64, kernel_size=(3, 3), activation='relu'))\n",
        "  model.add(layers.MaxPooling2D(pool_size=(2, 2)))\n",
        "\n",
        "  model.add(layers.Conv2D(128, kernel_size=(3, 3), activation='relu'))\n",
        "  model.add(layers.MaxPooling2D(pool_size=(2, 2)))\n",
        "\n",
        "  model.add(layers.Flatten())\n",
        "\n",
        "  model.add(layers.Dense(64, activation='relu', input_shape=[len(y_train)]))\n",
        "  model.add(layers.Dropout(0.3))\n",
        "  model.add(layers.Dense(64, activation='relu'))\n",
        "  model.add(layers.Dropout(0.3))\n",
        "  model.add(layers.Dense(1))\n",
        "  \n",
        "\n",
        "  optimizer = tf.keras.optimizers.RMSprop(0.001)\n",
        "\n",
        "  model.compile(loss='mse',\n",
        "                optimizer=optimizer,\n",
        "                metrics=['mae', 'mse'])\n",
        "  return model\n",
        "  "
      ],
      "execution_count": null,
      "outputs": []
    },
    {
      "cell_type": "markdown",
      "metadata": {
        "id": "P78IPxSuROd6"
      },
      "source": [
        "также добавим early stop, дабы не переобучаться"
      ]
    },
    {
      "cell_type": "code",
      "metadata": {
        "id": "4BISxb2MRJXy"
      },
      "source": [
        "early_stop = keras.callbacks.EarlyStopping(monitor='val_loss', patience=4)"
      ],
      "execution_count": null,
      "outputs": []
    },
    {
      "cell_type": "code",
      "metadata": {
        "id": "QJUoY9t4TRwE"
      },
      "source": [
        "model2 = build_better_model()\n",
        "history2 = model2.fit(x=X_train,y=y_train,  batch_size=batch_size, epochs=epochs,\n",
        "                    verbose=1, validation_data=(X_val, y_val), shuffle=True,callbacks=[early_stop, tfdocs.modeling.EpochDots()])"
      ],
      "execution_count": null,
      "outputs": []
    },
    {
      "cell_type": "code",
      "metadata": {
        "id": "kn2G1V7lTjpH",
        "colab": {
          "base_uri": "https://localhost:8080/",
          "height": 202
        },
        "outputId": "27b64f58-a0c4-4c4f-b56f-3d64b2eac2db"
      },
      "source": [
        "hist2 = pd.DataFrame(history2.history)\n",
        "hist2['epoch'] = history2.epoch\n",
        "hist2.tail()\n",
        "\n"
      ],
      "execution_count": null,
      "outputs": [
        {
          "output_type": "execute_result",
          "data": {
            "text/html": [
              "<div>\n",
              "<style scoped>\n",
              "    .dataframe tbody tr th:only-of-type {\n",
              "        vertical-align: middle;\n",
              "    }\n",
              "\n",
              "    .dataframe tbody tr th {\n",
              "        vertical-align: top;\n",
              "    }\n",
              "\n",
              "    .dataframe thead th {\n",
              "        text-align: right;\n",
              "    }\n",
              "</style>\n",
              "<table border=\"1\" class=\"dataframe\">\n",
              "  <thead>\n",
              "    <tr style=\"text-align: right;\">\n",
              "      <th></th>\n",
              "      <th>loss</th>\n",
              "      <th>mae</th>\n",
              "      <th>mse</th>\n",
              "      <th>val_loss</th>\n",
              "      <th>val_mae</th>\n",
              "      <th>val_mse</th>\n",
              "      <th>epoch</th>\n",
              "    </tr>\n",
              "  </thead>\n",
              "  <tbody>\n",
              "    <tr>\n",
              "      <th>5</th>\n",
              "      <td>3.534099e+14</td>\n",
              "      <td>12216120.0</td>\n",
              "      <td>3.600926e+14</td>\n",
              "      <td>1.754504e+14</td>\n",
              "      <td>10315636.0</td>\n",
              "      <td>2.044643e+14</td>\n",
              "      <td>5</td>\n",
              "    </tr>\n",
              "    <tr>\n",
              "      <th>6</th>\n",
              "      <td>3.549085e+14</td>\n",
              "      <td>12031328.0</td>\n",
              "      <td>3.600903e+14</td>\n",
              "      <td>2.020324e+14</td>\n",
              "      <td>10118563.0</td>\n",
              "      <td>2.340989e+14</td>\n",
              "      <td>6</td>\n",
              "    </tr>\n",
              "    <tr>\n",
              "      <th>7</th>\n",
              "      <td>3.775329e+14</td>\n",
              "      <td>12136439.0</td>\n",
              "      <td>3.859962e+14</td>\n",
              "      <td>1.900583e+14</td>\n",
              "      <td>9994988.0</td>\n",
              "      <td>2.212027e+14</td>\n",
              "      <td>7</td>\n",
              "    </tr>\n",
              "    <tr>\n",
              "      <th>8</th>\n",
              "      <td>3.520176e+14</td>\n",
              "      <td>11767736.0</td>\n",
              "      <td>3.576560e+14</td>\n",
              "      <td>1.757469e+14</td>\n",
              "      <td>10158105.0</td>\n",
              "      <td>2.051058e+14</td>\n",
              "      <td>8</td>\n",
              "    </tr>\n",
              "    <tr>\n",
              "      <th>9</th>\n",
              "      <td>3.419055e+14</td>\n",
              "      <td>11884849.0</td>\n",
              "      <td>3.499621e+14</td>\n",
              "      <td>2.100459e+14</td>\n",
              "      <td>10249388.0</td>\n",
              "      <td>2.429235e+14</td>\n",
              "      <td>9</td>\n",
              "    </tr>\n",
              "  </tbody>\n",
              "</table>\n",
              "</div>"
            ],
            "text/plain": [
              "           loss         mae           mse  ...     val_mae       val_mse  epoch\n",
              "5  3.534099e+14  12216120.0  3.600926e+14  ...  10315636.0  2.044643e+14      5\n",
              "6  3.549085e+14  12031328.0  3.600903e+14  ...  10118563.0  2.340989e+14      6\n",
              "7  3.775329e+14  12136439.0  3.859962e+14  ...   9994988.0  2.212027e+14      7\n",
              "8  3.520176e+14  11767736.0  3.576560e+14  ...  10158105.0  2.051058e+14      8\n",
              "9  3.419055e+14  11884849.0  3.499621e+14  ...  10249388.0  2.429235e+14      9\n",
              "\n",
              "[5 rows x 7 columns]"
            ]
          },
          "metadata": {
            "tags": []
          },
          "execution_count": 29
        }
      ]
    },
    {
      "cell_type": "code",
      "metadata": {
        "id": "6yLFQNRuucHR",
        "colab": {
          "base_uri": "https://localhost:8080/",
          "height": 35
        },
        "outputId": "2909e84c-1155-4d88-bdc8-9aa08a4efdc7"
      },
      "source": [
        "loss, mae, mse = model2.evaluate(X_test, y_test, verbose=1)"
      ],
      "execution_count": null,
      "outputs": [
        {
          "output_type": "stream",
          "text": [
            "1/1 [==============================] - 0s 2ms/step - loss: 292514619719680.0000 - mae: 11399707.0000 - mse: 292514619719680.0000\n"
          ],
          "name": "stdout"
        }
      ]
    },
    {
      "cell_type": "markdown",
      "metadata": {
        "id": "_8Vc31aRuyxS"
      },
      "source": [
        "- mae немного уменьшилась, но не сказать, что нам это помогло"
      ]
    },
    {
      "cell_type": "code",
      "metadata": {
        "id": "9FEkH9wolDWo",
        "colab": {
          "base_uri": "https://localhost:8080/",
          "height": 290
        },
        "outputId": "dd7680ee-7196-4282-bcb8-e07e3f37c445"
      },
      "source": [
        "predictions2 = model2.predict(X_test).flatten()\n",
        "plt_values(y_test, predictions2, [0, 50000000])"
      ],
      "execution_count": null,
      "outputs": [
        {
          "output_type": "display_data",
          "data": {
            "image/png": "[encoded data removed]",
            "text/plain": [
              "<Figure size 432x288 with 1 Axes>"
            ]
          },
          "metadata": {
            "tags": [],
            "needs_background": "light"
          }
        }
      ]
    },
    {
      "cell_type": "markdown",
      "metadata": {
        "id": "S8cqp5NltCSd"
      },
      "source": [
        "попробуем отнормировать данные:"
      ]
    },
    {
      "cell_type": "code",
      "metadata": {
        "id": "CL8TUY63tAXG"
      },
      "source": [
        "X_train_scaled = X_train / 255\n",
        "X_val_scaled = X_val / 255\n",
        "X_test_scaled = X_test / 255"
      ],
      "execution_count": null,
      "outputs": []
    },
    {
      "cell_type": "code",
      "metadata": {
        "id": "Wb-CVB9bykVT"
      },
      "source": [
        "model3 = build_better_model()\n",
        "history3 = model3.fit(x=X_train_scaled, y=y_train, batch_size=batch_size, epochs=epochs, verbose=1,\n",
        "                      validation_data=(X_val_scaled, y_val), callbacks=[early_stop, tfdocs.modeling.EpochDots()], shuffle=True)"
      ],
      "execution_count": null,
      "outputs": []
    },
    {
      "cell_type": "markdown",
      "metadata": {
        "id": "ZZOg9Oxl7VWL"
      },
      "source": [
        "mae и mse немного уменьшились "
      ]
    },
    {
      "cell_type": "code",
      "metadata": {
        "id": "Pmx3_n0mzwca",
        "colab": {
          "base_uri": "https://localhost:8080/",
          "height": 307
        },
        "outputId": "57b1ba6e-7609-47b9-96de-5296b6798eff"
      },
      "source": [
        "loss, mae, mse = model3.evaluate(X_test_scaled, y_test, verbose=1)\n",
        "predictions3=model3.predict(X_test_scaled).flatten()\n",
        "plt_values(y_test, predictions3, [0, 50000000])"
      ],
      "execution_count": null,
      "outputs": [
        {
          "output_type": "stream",
          "text": [
            "1/1 [==============================] - 0s 1ms/step - loss: 370560718602240.0000 - mae: 13558470.0000 - mse: 370560718602240.0000\n"
          ],
          "name": "stdout"
        },
        {
          "output_type": "display_data",
          "data": {
            "image/png": "[encoded data removed]",
            "text/plain": [
              "<Figure size 432x288 with 1 Axes>"
            ]
          },
          "metadata": {
            "tags": [],
            "needs_background": "light"
          }
        }
      ]
    },
    {
      "cell_type": "code",
      "metadata": {
        "id": "B1FoAby497gk",
        "colab": {
          "base_uri": "https://localhost:8080/",
          "height": 202
        },
        "outputId": "13c23eea-a46c-41f0-9bab-7823812667c6"
      },
      "source": [
        "hist3 = pd.DataFrame(history3.history)\n",
        "hist3['epoch'] = history3.epoch\n",
        "hist3.tail()"
      ],
      "execution_count": null,
      "outputs": [
        {
          "output_type": "execute_result",
          "data": {
            "text/html": [
              "<div>\n",
              "<style scoped>\n",
              "    .dataframe tbody tr th:only-of-type {\n",
              "        vertical-align: middle;\n",
              "    }\n",
              "\n",
              "    .dataframe tbody tr th {\n",
              "        vertical-align: top;\n",
              "    }\n",
              "\n",
              "    .dataframe thead th {\n",
              "        text-align: right;\n",
              "    }\n",
              "</style>\n",
              "<table border=\"1\" class=\"dataframe\">\n",
              "  <thead>\n",
              "    <tr style=\"text-align: right;\">\n",
              "      <th></th>\n",
              "      <th>loss</th>\n",
              "      <th>mae</th>\n",
              "      <th>mse</th>\n",
              "      <th>val_loss</th>\n",
              "      <th>val_mae</th>\n",
              "      <th>val_mse</th>\n",
              "      <th>epoch</th>\n",
              "    </tr>\n",
              "  </thead>\n",
              "  <tbody>\n",
              "    <tr>\n",
              "      <th>14</th>\n",
              "      <td>2.729999e+14</td>\n",
              "      <td>10923790.0</td>\n",
              "      <td>2.729999e+14</td>\n",
              "      <td>5.473312e+14</td>\n",
              "      <td>14109870.0</td>\n",
              "      <td>5.473312e+14</td>\n",
              "      <td>14</td>\n",
              "    </tr>\n",
              "    <tr>\n",
              "      <th>15</th>\n",
              "      <td>2.589687e+14</td>\n",
              "      <td>10755232.0</td>\n",
              "      <td>2.589687e+14</td>\n",
              "      <td>5.473759e+14</td>\n",
              "      <td>13740360.0</td>\n",
              "      <td>5.473759e+14</td>\n",
              "      <td>15</td>\n",
              "    </tr>\n",
              "    <tr>\n",
              "      <th>16</th>\n",
              "      <td>2.617172e+14</td>\n",
              "      <td>10680045.0</td>\n",
              "      <td>2.617172e+14</td>\n",
              "      <td>5.617547e+14</td>\n",
              "      <td>12691342.0</td>\n",
              "      <td>5.617547e+14</td>\n",
              "      <td>16</td>\n",
              "    </tr>\n",
              "    <tr>\n",
              "      <th>17</th>\n",
              "      <td>2.700943e+14</td>\n",
              "      <td>10985704.0</td>\n",
              "      <td>2.700943e+14</td>\n",
              "      <td>5.553995e+14</td>\n",
              "      <td>12907753.0</td>\n",
              "      <td>5.553995e+14</td>\n",
              "      <td>17</td>\n",
              "    </tr>\n",
              "    <tr>\n",
              "      <th>18</th>\n",
              "      <td>2.608397e+14</td>\n",
              "      <td>10487396.0</td>\n",
              "      <td>2.608397e+14</td>\n",
              "      <td>5.499371e+14</td>\n",
              "      <td>13214201.0</td>\n",
              "      <td>5.499371e+14</td>\n",
              "      <td>18</td>\n",
              "    </tr>\n",
              "  </tbody>\n",
              "</table>\n",
              "</div>"
            ],
            "text/plain": [
              "            loss         mae           mse  ...     val_mae       val_mse  epoch\n",
              "14  2.729999e+14  10923790.0  2.729999e+14  ...  14109870.0  5.473312e+14     14\n",
              "15  2.589687e+14  10755232.0  2.589687e+14  ...  13740360.0  5.473759e+14     15\n",
              "16  2.617172e+14  10680045.0  2.617172e+14  ...  12691342.0  5.617547e+14     16\n",
              "17  2.700943e+14  10985704.0  2.700943e+14  ...  12907753.0  5.553995e+14     17\n",
              "18  2.608397e+14  10487396.0  2.608397e+14  ...  13214201.0  5.499371e+14     18\n",
              "\n",
              "[5 rows x 7 columns]"
            ]
          },
          "metadata": {
            "tags": []
          },
          "execution_count": 28
        }
      ]
    },
    {
      "cell_type": "code",
      "metadata": {
        "id": "3USJj8sW9g8M",
        "colab": {
          "base_uri": "https://localhost:8080/",
          "height": 308
        },
        "outputId": "7e6fdd12-2641-4e54-ea33-73fdc6e740f7"
      },
      "source": [
        "plt_errors(history3, hist3)"
      ],
      "execution_count": null,
      "outputs": [
        {
          "output_type": "display_data",
          "data": {
            "image/png": "[encoded data removed]",
            "text/plain": [
              "<Figure size 864x288 with 2 Axes>"
            ]
          },
          "metadata": {
            "tags": [],
            "needs_background": "light"
          }
        }
      ]
    },
    {
      "cell_type": "markdown",
      "metadata": {
        "id": "E7XwsrHQBC__"
      },
      "source": [
        "добавим еще изображений для тренировки, исказив старые:"
      ]
    },
    {
      "cell_type": "code",
      "metadata": {
        "id": "mvm5OSECBCuU"
      },
      "source": [
        "train_datagen = ImageDataGenerator(rescale=1./255, zoom_range=0.3, rotation_range=50,\n",
        "                                   width_shift_range=0.2, height_shift_range=0.2, shear_range=0.2, \n",
        "                                   horizontal_flip=True, fill_mode='nearest')\n",
        "val_datagen = ImageDataGenerator(rescale=1./255)"
      ],
      "execution_count": null,
      "outputs": []
    },
    {
      "cell_type": "markdown",
      "metadata": {
        "id": "b2dcZIlpEoo7"
      },
      "source": [
        "посмотрим, что получается:"
      ]
    },
    {
      "cell_type": "code",
      "metadata": {
        "id": "uHMQ-OJpCs4J",
        "colab": {
          "base_uri": "https://localhost:8080/",
          "height": 206
        },
        "outputId": "38e6a0bd-111d-43c3-da83-bf87632b5b38"
      },
      "source": [
        "test_generator = train_datagen.flow(X_train[0:1], y_train[0:1], batch_size=1)\n",
        "pic = [next(test_generator) for i in range(5)]\n",
        "fig, ax = plt.subplots(1,5, figsize=(16, 6))\n",
        "l = [ax[i].imshow(pic[i][0][0]) for i in range(5)]"
      ],
      "execution_count": null,
      "outputs": [
        {
          "output_type": "display_data",
          "data": {
            "image/png": "[encoded data removed]",
            "text/plain": [
              "<Figure size 1152x432 with 5 Axes>"
            ]
          },
          "metadata": {
            "tags": [],
            "needs_background": "light"
          }
        }
      ]
    },
    {
      "cell_type": "code",
      "metadata": {
        "id": "g6Y1BDIyE4oi"
      },
      "source": [
        "train_gen = train_datagen.flow(X_train_scaled, y_train, batch_size=30)\n",
        "val_gen = val_datagen.flow(X_val_scaled, y_val, batch_size=10)\n"
      ],
      "execution_count": null,
      "outputs": []
    },
    {
      "cell_type": "code",
      "metadata": {
        "id": "m-X4iIWXXD9B"
      },
      "source": [
        "model4 = build_better_model()\n",
        "history4 = model4.fit_generator(train_gen, steps_per_epoch= len(X_train)/30, epochs=20,\n",
        "                                validation_data=val_gen, validation_steps=len(X_val)/10,\n",
        "                                verbose=1, callbacks=[early_stop])"
      ],
      "execution_count": null,
      "outputs": []
    },
    {
      "cell_type": "code",
      "metadata": {
        "id": "22s999SQdHjj"
      },
      "source": [
        "hist4 = pd.DataFrame(history4.history)\n",
        "hist4['epoch'] = history4.epoch\n",
        "hist4.tail()"
      ],
      "execution_count": null,
      "outputs": []
    },
    {
      "cell_type": "markdown",
      "metadata": {
        "id": "Ye5O6fskmh3K"
      },
      "source": [
        "похоже на переобучение, которое здесь не получается лечить ни изменением batch size, ни learning rate. Видимо, виноват небольшой размер датасета"
      ]
    },
    {
      "cell_type": "code",
      "metadata": {
        "id": "qDZzjfuGd2hG"
      },
      "source": [
        "loss, mae, mse = model4.evaluate(X_test_scaled, y_test, verbose=1)"
      ],
      "execution_count": null,
      "outputs": []
    },
    {
      "cell_type": "code",
      "metadata": {
        "id": "hDW1_k4LetJG"
      },
      "source": [
        "plt_errors(history4, hist4)"
      ],
      "execution_count": null,
      "outputs": []
    },
    {
      "cell_type": "code",
      "metadata": {
        "id": "vc_rCjILmnv9"
      },
      "source": [
        "preds4 = model4.predict(X_test_scaled).flatten()\n",
        "print(preds4)\n",
        "plt_values(y_test, preds4, [0, 50000000])"
      ],
      "execution_count": null,
      "outputs": []
    },
    {
      "cell_type": "markdown",
      "metadata": {
        "id": "R_qO3URijcNi"
      },
      "source": [
        "наконец, попробуем перейти к transfer learning"
      ]
    },
    {
      "cell_type": "markdown",
      "metadata": {
        "id": "qtPHevwiFOcd"
      },
      "source": [
        "ResNet50:"
      ]
    },
    {
      "cell_type": "code",
      "metadata": {
        "id": "bhuMiu-13os7",
        "colab": {
          "base_uri": "https://localhost:8080/",
          "height": 35
        },
        "outputId": "e8a86c91-717e-4d2c-82f1-f44ea6c637e3"
      },
      "source": [
        "\n",
        "from keras.applications import vgg16\n",
        "from keras.models import Model\n",
        "import keras \n",
        "from keras import layers\n",
        "import torch\n",
        "from torch import nn\n",
        "from collections import OrderedDict\n",
        "import argparse\n",
        "import os\n",
        "from torchvision import transforms, utils, datasets, models\n",
        "from torch.utils.data import DataLoader, ConcatDataset, Dataset\n",
        "from torch import optim\n",
        "from torch.optim import lr_scheduler\n",
        "import torch.nn.functional as F\n",
        "import time\n",
        "import glob\n",
        "import copy\n",
        "import shutil\n",
        "import sys\n",
        "from matplotlib.ticker import MaxNLocator\n"
      ],
      "execution_count": null,
      "outputs": [
        {
          "output_type": "execute_result",
          "data": {
            "text/plain": [
              "<torch._C.Generator at 0x7fdfdb785110>"
            ]
          },
          "metadata": {
            "tags": []
          },
          "execution_count": 13
        }
      ]
    },
    {
      "cell_type": "code",
      "metadata": {
        "id": "SlAjRx5H9TFU"
      },
      "source": [
        "форматируем данные и кидаем в датасет,который пойдет в генератор для модели"
      ],
      "execution_count": null,
      "outputs": []
    },
    {
      "cell_type": "code",
      "metadata": {
        "id": "38lstpxWUpcU"
      },
      "source": [
        "class Dataset(Dataset):\n",
        "  'Characterizes a dataset for PyTorch'\n",
        "  def __init__(self, data, labels):\n",
        "        'Initialization'\n",
        "        self.data = torch.from_numpy(data)\n",
        "        self.labels = torch.LongTensor(labels)\n",
        "\n",
        "  def __len__(self):\n",
        "        'Denotes the total number of samples'\n",
        "        return len(self.data)\n",
        "\n",
        "  def __getitem__(self, index):\n",
        "        'Generates one sample of data'\n",
        "        x = self.data[index]\n",
        "        y = self.labels[index]\n",
        "        return x, y"
      ],
      "execution_count": null,
      "outputs": []
    },
    {
      "cell_type": "code",
      "metadata": {
        "id": "DbbjAEOCu5Zj",
        "colab": {
          "base_uri": "https://localhost:8080/",
          "height": 52
        },
        "outputId": "59880349-979e-4381-b11b-7bdd90c46ba2"
      },
      "source": [
        "print(X_train_scaled.shape)\n",
        "X_train_scaled = np.moveaxis(X_train_scaled, -1, 1)\n",
        "X_train_scaled.shape"
      ],
      "execution_count": null,
      "outputs": [
        {
          "output_type": "stream",
          "text": [
            "(291, 224, 224, 3)\n"
          ],
          "name": "stdout"
        },
        {
          "output_type": "execute_result",
          "data": {
            "text/plain": [
              "(291, 3, 224, 224)"
            ]
          },
          "metadata": {
            "tags": []
          },
          "execution_count": 315
        }
      ]
    },
    {
      "cell_type": "code",
      "metadata": {
        "id": "Abx8LV7EC86k"
      },
      "source": [
        "X_val_scaled = np.moveaxis(X_val_scaled, -1, 1).astype(np.float32)\n",
        "X_test_scaled = np.moveaxis(X_test_scaled, -1, 1).astype(np.float32)"
      ],
      "execution_count": null,
      "outputs": []
    },
    {
      "cell_type": "code",
      "metadata": {
        "id": "jKVeXD8aAgkO"
      },
      "source": [
        "X_train_scaled = X_train_scaled.astype(np.float32)"
      ],
      "execution_count": null,
      "outputs": []
    },
    {
      "cell_type": "code",
      "metadata": {
        "id": "lTIt8vNcy0Pd"
      },
      "source": [
        "train = Dataset((X_train_scaled), y_train)\n",
        "train_gen = DataLoader(train, batch_size=32, shuffle=True)\n",
        "\n",
        "val = Dataset((X_val_scaled), y_val)\n",
        "val_gen = DataLoader(val, batch_size=32, shuffle=True)"
      ],
      "execution_count": null,
      "outputs": []
    },
    {
      "cell_type": "code",
      "metadata": {
        "id": "hfwKw6rb2BZt"
      },
      "source": [
        "test = Dataset(X_test_scaled, y_test)\n",
        "test_gen = DataLoader(test, batch_size=1, shuffle=True)"
      ],
      "execution_count": null,
      "outputs": []
    },
    {
      "cell_type": "markdown",
      "metadata": {
        "id": "ZhrJGnt49mmW"
      },
      "source": [
        "загружаем модель, заменяем последний слой на классификатор, сохраняя веса\n"
      ]
    },
    {
      "cell_type": "code",
      "metadata": {
        "id": "jBwNcCWFFfMq"
      },
      "source": [
        "def build_transfer():\n",
        "  model = models.__dict__['resnet50'](pretrained=True)\n",
        "\n",
        "  for param in model.parameters():\n",
        "    param.require_grad = False\n",
        "  last_layer = list(model.children())[-1]\n",
        "  count = 0\n",
        "  in_features = last_layer.in_features\n",
        "  classifier = nn.Sequential(OrderedDict([\n",
        "                          ('bc1', nn.BatchNorm1d(in_features)),\n",
        "                          ('relu1', nn.ReLU()),\n",
        "                          ('fc1', nn.Linear(in_features, 1, bias=True)),\n",
        "  ]))\n",
        "  if model.__dict__['_modules'].get('fc', None):\n",
        "      model.fc = classifier\n",
        "  else:\n",
        "      model.classifier = classifier\n",
        "\n",
        "  return model\n",
        "\n",
        "# build_transfer()"
      ],
      "execution_count": null,
      "outputs": []
    },
    {
      "cell_type": "code",
      "metadata": {
        "id": "akYWbgWX1lfb"
      },
      "source": [
        "def train_model(model, train_gen, valid_gen, criterion, optimizer, scheduler, epochs, diff_lr=False):\n",
        "  \n",
        "  start = time.time()\n",
        "  print_every = 50\n",
        "  steps = 0\n",
        "  best_model_wts = copy.deepcopy(model.state_dict())\n",
        "  best_acc = 0.0\n",
        "  valid_loss_min = np.Inf\n",
        "  training_loss, validation_loss = [], []\n",
        "  for epoch in range(epochs):\n",
        "      lr_used = 0\n",
        "      if diff_lr:\n",
        "        for param in optimizer.param_groups:\n",
        "          if param['lr'] > lr_used:\n",
        "            lr_used = param['lr']\n",
        "        print('learning rate being used {}'.format(lr_used))      \n",
        "      running_loss = 0\n",
        "      # train_acc = 0\n",
        "      scheduler.step()\n",
        "      model.train()\n",
        "      for idx, (images, prices) in enumerate(train_gen):\n",
        "          steps += 1\n",
        "          # zero the parameter gradients\n",
        "          optimizer.zero_grad()\n",
        "\n",
        "          # forward pass and backward pass\n",
        "          output = model(images)\n",
        "          \n",
        "          loss = criterion(prices, output)\n",
        "          loss.backward()\n",
        "          optimizer.step()\n",
        "\n",
        "          running_loss += loss.item() * images.size(0)\n",
        "          \n",
        "      # Turn off gradients for validation, saves memory and computations\n",
        "      with torch.no_grad():\n",
        "          valid_loss = validation(model, valid_gen, criterion)\n",
        "          \n",
        "      if valid_loss < valid_loss_min:\n",
        "          valid_loss_min = valid_loss\n",
        "          best_model_wts = copy.deepcopy(model.state_dict())\n",
        "\n",
        "      print(\"Epoch: {}/{}... \".format(epoch+1, epochs),\n",
        "        \"Train loss: {:.4f}\".format(running_loss/len(train_gen.dataset)),\n",
        "        \"Validation loss: {:.4f}\".format(valid_loss/len(valid_gen.dataset)),\n",
        "        )\n",
        "      # save the losses\n",
        "      training_loss.append(running_loss/len(train_gen.dataset))\n",
        "      validation_loss.append(valid_loss/len(valid_gen.dataset))\n",
        "      running_loss = 0       \n",
        "      \n",
        "  print('Best validation loss is {:.4f}'.format(valid_loss_min/len(valid_gen.dataset)))\n",
        "  print('Time to complete training {} minutes'.format((time.time() - start) / 60))\n",
        "  model.load_state_dict(best_model_wts)\n",
        "  return model, training_loss, validation_loss\n"
      ],
      "execution_count": null,
      "outputs": []
    },
    {
      "cell_type": "code",
      "metadata": {
        "id": "xQTVkezwiw5c"
      },
      "source": [
        "def optimizer(model, lr=0.001, weight_decay=1e-3/200):\n",
        "    \n",
        "    if model.__dict__['_modules'].get('fc', None):\n",
        "        return optim.Adam(model.fc.parameters(), lr=lr, weight_decay=weight_decay)\n",
        "    return optim.Adam(model.classifier.parameters(), lr=lr, weight_decay=weight_decay)"
      ],
      "execution_count": null,
      "outputs": []
    },
    {
      "cell_type": "code",
      "metadata": {
        "id": "Nog8FoQg2ZzC"
      },
      "source": [
        "def validation(model, valid_gen, criterion=None):\n",
        "\n",
        "    valid_loss = 0\n",
        "    model.eval()\n",
        "    for images, prices in valid_gen:\n",
        "\n",
        "        # images, prices = images.to(device), prices.to(device)\n",
        "        output = model(images)\n",
        "        valid_loss += criterion(prices, output).item() * images.size(0)\n",
        "    \n",
        "    return valid_loss"
      ],
      "execution_count": null,
      "outputs": []
    },
    {
      "cell_type": "code",
      "metadata": {
        "id": "uEHjxkaj9kCA"
      },
      "source": [
        "def check_on_test(model, test_gen, criterion):  \n",
        "    # Compute the Root Mean Square Error on the test dataset\n",
        "    loss = 0\n",
        "    model.eval()\n",
        "    with torch.no_grad():\n",
        "        for data in test_gen:\n",
        "            images, prices = data\n",
        "           \n",
        "            outputs = model(images)\n",
        "            loss += criterion(prices, outputs)\n",
        "        loss = np.squeeze(loss.cpu().numpy()) \n",
        "\n",
        "    return loss / len(test_gen)"
      ],
      "execution_count": null,
      "outputs": []
    },
    {
      "cell_type": "code",
      "metadata": {
        "id": "l25Xszj_0u-V"
      },
      "source": [
        "def predict_prices(model, test_gen):\n",
        "  model.eval()\n",
        "  predictions = []\n",
        "  for data in test_gen:\n",
        "    image, price = data\n",
        "    prediction = int(model(image)[0][0])\n",
        "    predictions.append(prediction*1e6)\n",
        "  return predictions\n",
        "\n",
        "# preds= predict_prices(model, test_gen)\n",
        "# print(preds)"
      ],
      "execution_count": null,
      "outputs": []
    },
    {
      "cell_type": "code",
      "metadata": {
        "id": "3KzNSktuAmaZ"
      },
      "source": [
        "epochs = 10\n",
        "lr = 0.001"
      ],
      "execution_count": null,
      "outputs": []
    },
    {
      "cell_type": "code",
      "metadata": {
        "id": "6zM64N3Ugprj"
      },
      "source": [
        "model = build_transfer()\n",
        "#  criterion = torch.nn.L1Loss()\n",
        "criterion = torch.nn.MSELoss()\n",
        "optim_ = optimizer(model, lr)\n",
        "#exp_lr_scheduler = lr_scheduler.StepLR(optim_, step_size=5, gamma=0.1)\n",
        "exp_lr_scheduler = lr_scheduler.CosineAnnealingLR(optim_, T_max=epochs)"
      ],
      "execution_count": null,
      "outputs": []
    },
    {
      "cell_type": "code",
      "metadata": {
        "id": "2jtAOF5vBOi2",
        "colab": {
          "base_uri": "https://localhost:8080/",
          "height": 384
        },
        "outputId": "5fb3dbe8-4c66-40b5-c2eb-545cd095f832"
      },
      "source": [
        "model, training_loss, validation_loss = train_model(model, train_gen, \n",
        "                                                      val_gen, criterion, \n",
        "                      optim_, exp_lr_scheduler, epochs, False) "
      ],
      "execution_count": null,
      "outputs": [
        {
          "output_type": "stream",
          "text": [
            "/usr/local/lib/python3.6/dist-packages/torch/optim/lr_scheduler.py:123: UserWarning: Detected call of `lr_scheduler.step()` before `optimizer.step()`. In PyTorch 1.1.0 and later, you should call them in the opposite order: `optimizer.step()` before `lr_scheduler.step()`.  Failure to do this will result in PyTorch skipping the first value of the learning rate schedule. See more details at https://pytorch.org/docs/stable/optim.html#how-to-adjust-learning-rate\n",
            "  \"https://pytorch.org/docs/stable/optim.html#how-to-adjust-learning-rate\", UserWarning)\n",
            "/usr/local/lib/python3.6/dist-packages/torch/nn/modules/loss.py:432: UserWarning: Using a target size (torch.Size([32, 1])) that is different to the input size (torch.Size([32])). This will likely lead to incorrect results due to broadcasting. Please ensure they have the same size.\n",
            "  return F.mse_loss(input, target, reduction=self.reduction)\n",
            "/usr/local/lib/python3.6/dist-packages/torch/nn/modules/loss.py:432: UserWarning: Using a target size (torch.Size([3, 1])) that is different to the input size (torch.Size([3])). This will likely lead to incorrect results due to broadcasting. Please ensure they have the same size.\n",
            "  return F.mse_loss(input, target, reduction=self.reduction)\n",
            "/usr/local/lib/python3.6/dist-packages/torch/nn/modules/loss.py:432: UserWarning: Using a target size (torch.Size([9, 1])) that is different to the input size (torch.Size([9])). This will likely lead to incorrect results due to broadcasting. Please ensure they have the same size.\n",
            "  return F.mse_loss(input, target, reduction=self.reduction)\n"
          ],
          "name": "stderr"
        },
        {
          "output_type": "stream",
          "text": [
            "Epoch: 1/10...  Train loss: 780371136802182.6250 Validation loss: 612244442201887.5000\n",
            "Epoch: 2/10...  Train loss: 780370789669476.2500 Validation loss: 612244116769862.1250\n",
            "Epoch: 3/10...  Train loss: 780370474938128.7500 Validation loss: 612243845576507.6250\n",
            "Epoch: 4/10...  Train loss: 780370179693719.3750 Validation loss: 612243565190158.0000\n",
            "Epoch: 5/10...  Train loss: 780369980212044.5000 Validation loss: 612243279288011.3750\n",
            "Epoch: 6/10...  Train loss: 780369783036516.2500 Validation loss: 612243238838833.1250\n",
            "Epoch: 7/10...  Train loss: 780369657582145.1250 Validation loss: 612243127143943.0000\n",
            "Epoch: 8/10...  Train loss: 780369594278422.8750 Validation loss: 612243092210561.7500\n",
            "Epoch: 9/10...  Train loss: 780369570409806.2500 Validation loss: 612243015449052.8750\n",
            "Epoch: 10/10...  Train loss: 780369558648459.0000 Validation loss: 612243065550876.0000\n",
            "Best validation loss is 612243015449052.8750\n",
            "Time to complete training 18.24741864601771 minutes\n"
          ],
          "name": "stdout"
        }
      ]
    },
    {
      "cell_type": "code",
      "metadata": {
        "id": "OoBOzR8kApwv"
      },
      "source": [
        "test_loss = check_on_test(model, train_gen, criterion)\n",
        "print('Test set loss is {:.4f}'.format(test_loss))\n",
        "    "
      ],
      "execution_count": null,
      "outputs": []
    },
    {
      "cell_type": "code",
      "metadata": {
        "id": "ilen-83nAot-"
      },
      "source": [
        "ну нет так нет))) а чего ожидать от датасета на 389 изображений"
      ],
      "execution_count": null,
      "outputs": []
    },
    {
      "cell_type": "code",
      "metadata": {
        "id": "FgFJDuSzBIPO"
      },
      "source": [
        "predicted_prices = predict_prices(model, test_gen)"
      ],
      "execution_count": null,
      "outputs": []
    },
    {
      "cell_type": "code",
      "metadata": {
        "id": "D6AqsAZi5F7S",
        "colab": {
          "base_uri": "https://localhost:8080/",
          "height": 290
        },
        "outputId": "36397019-8cda-42b1-e707-f4b0fd5549b7"
      },
      "source": [
        "plt_values( y_test, predicted_prices, [0, 50000000])"
      ],
      "execution_count": null,
      "outputs": [
        {
          "output_type": "display_data",
          "data": {
            "image/png": "[encoded data removed]",
            "text/plain": [
              "<Figure size 432x288 with 1 Axes>"
            ]
          },
          "metadata": {
            "tags": [],
            "needs_background": "light"
          }
        }
      ]
    },
    {
      "cell_type": "markdown",
      "metadata": {
        "id": "iTsUnflUBX4S"
      },
      "source": [
        "но есть и красивые графики:"
      ]
    },
    {
      "cell_type": "code",
      "metadata": {
        "id": "EJhYwdixJ1un",
        "colab": {
          "base_uri": "https://localhost:8080/",
          "height": 459
        },
        "outputId": "577e2fc8-b60d-4132-c937-977c6ff2bd0f"
      },
      "source": [
        "\n",
        "\n",
        "plt.figure(1, figsize=(12, 4))\n",
        "plt.suptitle('Pretrained ResNet50 Performance', fontsize=12)\n",
        "plt.subplot(111)\n",
        "plt.ylabel('validation_loss')\n",
        "plt.xlabel('epochs')\n",
        "plt.plot(validation_loss)\n",
        "\n",
        "plt.figure(2, figsize=(12, 4))\n",
        "plt.subplot(222)\n",
        "plt.ylabel('training_loss')\n",
        "plt.xlabel('epochs')\n",
        "plt.plot(training_loss)\n",
        "plt.subplots_adjust(top=0.85, wspace=0.3)\n",
        "  "
      ],
      "execution_count": null,
      "outputs": [
        {
          "output_type": "display_data",
          "data": {
            "image/png": "[encoded data removed]",
            "text/plain": [
              "<Figure size 864x288 with 1 Axes>"
            ]
          },
          "metadata": {
            "tags": [],
            "needs_background": "light"
          }
        },
        {
          "output_type": "display_data",
          "data": {
            "image/png": "[encoded data removed]",
            "text/plain": [
              "<Figure size 864x288 with 1 Axes>"
            ]
          },
          "metadata": {
            "tags": [],
            "needs_background": "light"
          }
        }
      ]
    },
    {
      "cell_type": "markdown",
      "metadata": {
        "id": "0knlNTvMBfUq"
      },
      "source": [
        "попробуем другую модель"
      ]
    },
    {
      "cell_type": "markdown",
      "metadata": {
        "id": "1sAEmgqF7bt5"
      },
      "source": [
        "vgg16"
      ]
    },
    {
      "cell_type": "code",
      "metadata": {
        "id": "fWJzLBDf7a2l"
      },
      "source": [
        "def build_transfer_vgg():\n",
        "  model = models.__dict__['vgg16'](pretrained=True)\n",
        "\n",
        "  for param in model.parameters():\n",
        "    param.require_grad = False\n",
        "  last_layer = list(model.children())[-1]\n",
        "  count = 0\n",
        "  for layer in last_layer:\n",
        "      if isinstance(layer, nn.Linear):\n",
        "          # fetch the first of the many Linear layers\n",
        "          count += 1\n",
        "          in_features = layer.in_features\n",
        "      if count == 1:\n",
        "          break\n",
        "  classifier = nn.Sequential(OrderedDict([\n",
        "                          ('bc1', nn.BatchNorm1d(in_features)),\n",
        "                          ('relu1', nn.ReLU()),\n",
        "                          ('fc1', nn.Linear(in_features, 1, bias=True)),\n",
        "  ]))\n",
        "  if model.__dict__['_modules'].get('fc', None):\n",
        "      model.fc = classifier\n",
        "  else:\n",
        "      model.classifier = classifier\n",
        "\n",
        "  return model"
      ],
      "execution_count": null,
      "outputs": []
    },
    {
      "cell_type": "code",
      "metadata": {
        "id": "LkcnZHjX76J7",
        "colab": {
          "base_uri": "https://localhost:8080/",
          "height": 84,
          "referenced_widgets": [
            "853068bde4854660aac7adbd2ecfea2f",
            "fb8edb8838144710a0142063277ecc65",
            "700a63e6b270484da5e6c0963b228707",
            "76ae3c57ea77404d8ddd78ac6bd11ee6",
            "125a186ddcae4127a904ce9437215ea6",
            "74e14a27ce2b482dad313f5d7d670be5",
            "6da84cc3479441aea29ca7d20902c41f",
            "87d1ccfa680040e9b44b5f238a4e451b"
          ]
        },
        "outputId": "d250228a-e611-45df-ba13-819889671ceb"
      },
      "source": [
        "model = build_transfer_vgg()\n",
        "#  criterion = torch.nn.L1Loss()\n",
        "criterion = torch.nn.MSELoss()\n",
        "optim_ = optimizer(model, lr)\n",
        "#exp_lr_scheduler = lr_scheduler.StepLR(optim_, step_size=5, gamma=0.1)\n",
        "exp_lr_scheduler = lr_scheduler.CosineAnnealingLR(optim_, T_max=epochs)"
      ],
      "execution_count": null,
      "outputs": [
        {
          "output_type": "stream",
          "text": [
            "Downloading: \"https://download.pytorch.org/models/vgg16-397923af.pth\" to /root/.cache/torch/checkpoints/vgg16-397923af.pth\n"
          ],
          "name": "stderr"
        },
        {
          "output_type": "display_data",
          "data": {
            "application/vnd.jupyter.widget-view+json": {
              "model_id": "853068bde4854660aac7adbd2ecfea2f",
              "version_minor": 0,
              "version_major": 2
            },
            "text/plain": [
              "HBox(children=(FloatProgress(value=0.0, max=553433881.0), HTML(value='')))"
            ]
          },
          "metadata": {
            "tags": []
          }
        },
        {
          "output_type": "stream",
          "text": [
            "\n"
          ],
          "name": "stdout"
        }
      ]
    },
    {
      "cell_type": "code",
      "metadata": {
        "id": "j6_AdeNE79Ld",
        "colab": {
          "base_uri": "https://localhost:8080/",
          "height": 471
        },
        "outputId": "f6416875-d7dc-4090-89c0-eb9768321992"
      },
      "source": [
        "model, training_loss, validation_loss = train_model(model, train_gen, \n",
        "                                                      val_gen, criterion, \n",
        "                      optim_, exp_lr_scheduler, epochs, False) "
      ],
      "execution_count": null,
      "outputs": [
        {
          "output_type": "stream",
          "text": [
            "/usr/local/lib/python3.6/dist-packages/torch/optim/lr_scheduler.py:123: UserWarning: Detected call of `lr_scheduler.step()` before `optimizer.step()`. In PyTorch 1.1.0 and later, you should call them in the opposite order: `optimizer.step()` before `lr_scheduler.step()`.  Failure to do this will result in PyTorch skipping the first value of the learning rate schedule. See more details at https://pytorch.org/docs/stable/optim.html#how-to-adjust-learning-rate\n",
            "  \"https://pytorch.org/docs/stable/optim.html#how-to-adjust-learning-rate\", UserWarning)\n",
            "/usr/local/lib/python3.6/dist-packages/torch/nn/modules/loss.py:432: UserWarning: Using a target size (torch.Size([32, 1])) that is different to the input size (torch.Size([32])). This will likely lead to incorrect results due to broadcasting. Please ensure they have the same size.\n",
            "  return F.mse_loss(input, target, reduction=self.reduction)\n",
            "/usr/local/lib/python3.6/dist-packages/torch/nn/modules/loss.py:432: UserWarning: Using a target size (torch.Size([3, 1])) that is different to the input size (torch.Size([3])). This will likely lead to incorrect results due to broadcasting. Please ensure they have the same size.\n",
            "  return F.mse_loss(input, target, reduction=self.reduction)\n",
            "/usr/local/lib/python3.6/dist-packages/torch/nn/modules/loss.py:432: UserWarning: Using a target size (torch.Size([9, 1])) that is different to the input size (torch.Size([9])). This will likely lead to incorrect results due to broadcasting. Please ensure they have the same size.\n",
            "  return F.mse_loss(input, target, reduction=self.reduction)\n"
          ],
          "name": "stderr"
        },
        {
          "output_type": "stream",
          "text": [
            "Epoch: 1/15...  Train loss: 780370373294720.5000 Validation loss: 612243133119389.7500\n",
            "Epoch: 2/15...  Train loss: 780368165505340.7500 Validation loss: 612241182825486.0000\n",
            "Epoch: 3/15...  Train loss: 780366024623037.1250 Validation loss: 612238938355740.0000\n",
            "Epoch: 4/15...  Train loss: 780363898327110.3750 Validation loss: 612236750422913.7500\n",
            "Epoch: 5/15...  Train loss: 780361922766686.1250 Validation loss: 612234681079723.8750\n",
            "Epoch: 6/15...  Train loss: 780360038990893.7500 Validation loss: 612232851673705.2500\n",
            "Epoch: 7/15...  Train loss: 780358330712852.2500 Validation loss: 612231215320583.0000\n",
            "Epoch: 8/15...  Train loss: 780356908339326.6250 Validation loss: 612229720539584.8750\n",
            "Epoch: 9/15...  Train loss: 780355715773302.7500 Validation loss: 612228865131393.7500\n",
            "Epoch: 10/15...  Train loss: 780354830847225.8750 Validation loss: 612228345267522.6250\n",
            "Epoch: 11/15...  Train loss: 780354183800163.3750 Validation loss: 612227581789282.2500\n",
            "Epoch: 12/15...  Train loss: 780353706197217.2500 Validation loss: 612227093181594.2500\n",
            "Epoch: 13/15...  Train loss: 780353517554431.1250 Validation loss: 612227089044746.5000\n",
            "Epoch: 14/15...  Train loss: 780353445602659.3750 Validation loss: 612226904725195.3750\n",
            "Epoch: 15/15...  Train loss: 780353430382092.3750 Validation loss: 612226792111005.7500\n",
            "Best validation loss is 612226792111005.7500\n",
            "Time to complete training 65.19755772749583 minutes\n"
          ],
          "name": "stdout"
        }
      ]
    },
    {
      "cell_type": "code",
      "metadata": {
        "id": "gcqpcWHIHf1x"
      },
      "source": [
        "test_loss = check_on_test(model, train_gen, criterion)\n",
        "print('Test set loss is {:.4f}'.format(test_loss))\n",
        "predicted_prices = predict_prices(model, test_gen)\n"
      ],
      "execution_count": null,
      "outputs": []
    },
    {
      "cell_type": "code",
      "metadata": {
        "id": "qm_pjWp5MKff"
      },
      "source": [
        "plt_values( y_test, predicted_prices, [0, 500000000])"
      ],
      "execution_count": null,
      "outputs": []
    },
    {
      "cell_type": "code",
      "metadata": {
        "id": "vJ831TYNIA5d",
        "colab": {
          "base_uri": "https://localhost:8080/",
          "height": 459
        },
        "outputId": "d85262a7-3a44-40b3-b448-3e5bc132cc76"
      },
      "source": [
        "plt.figure(1, figsize=(12, 4))\n",
        "plt.suptitle('Pretrained VGG16 Performance', fontsize=12)\n",
        "plt.subplot(111)\n",
        "plt.ylabel('validation_loss')\n",
        "plt.xlabel('epochs')\n",
        "plt.plot(validation_loss)\n",
        "\n",
        "plt.figure(2, figsize=(12, 4))\n",
        "plt.subplot(222)\n",
        "plt.ylabel('training_loss')\n",
        "plt.xlabel('epochs')\n",
        "plt.plot(training_loss)\n",
        "plt.subplots_adjust(top=0.85, wspace=0.3)"
      ],
      "execution_count": null,
      "outputs": [
        {
          "output_type": "display_data",
          "data": {
            "image/png": "[encoded data removed]",
            "text/plain": [
              "<Figure size 864x288 with 1 Axes>"
            ]
          },
          "metadata": {
            "tags": [],
            "needs_background": "light"
          }
        },
        {
          "output_type": "display_data",
          "data": {
            "image/png": "[encoded data removed]",
            "text/plain": [
              "<Figure size 864x288 with 1 Axes>"
            ]
          },
          "metadata": {
            "tags": [],
            "needs_background": "light"
          }
        }
      ]
    }
  ]
}
